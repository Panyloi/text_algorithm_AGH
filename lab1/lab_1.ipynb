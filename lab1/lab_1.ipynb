{
 "cells": [
  {
   "attachments": {},
   "cell_type": "markdown",
   "metadata": {},
   "source": [
    "## Lab 1"
   ]
  },
  {
   "cell_type": "code",
   "execution_count": 98,
   "metadata": {},
   "outputs": [],
   "source": [
    "# ALPHABET = ('a', 'ą', 'b', 'c', 'ć', 'd', 'e', 'ę', 'f', 'g',\n",
    "#             'h', 'i', 'j', 'k', 'l', 'ł', 'm', 'n', 'ń', 'o',\n",
    "#             'ó', 'p', 'r', 's', 'ś', 't', 'u', 'w', 'y', 'z',\n",
    "#             'ź', 'ż')\n",
    "alphabet = [chr(i) for i in range(1114112)]\n",
    "ALPHABET = alphabet"
   ]
  },
  {
   "cell_type": "code",
   "execution_count": 117,
   "metadata": {},
   "outputs": [],
   "source": [
    "import time\n",
    "import numpy as np\n",
    "import matplotlib.pyplot as plt"
   ]
  },
  {
   "attachments": {},
   "cell_type": "markdown",
   "metadata": {},
   "source": [
    "### zad 1.1 Implementacja algorytmu naiwego znajdującego pattern w tekście"
   ]
  },
  {
   "cell_type": "code",
   "execution_count": 48,
   "metadata": {},
   "outputs": [],
   "source": [
    "def naive_string_maching(text, pattern):\n",
    "    n = len(text)\n",
    "    m = len(pattern)\n",
    "    tab = []\n",
    "    match_result = 0\n",
    "    for s in range(n - m + 1):\n",
    "        if pattern == text[s : s + m]:\n",
    "            # print(f'Znaleziono na pozycji {s}')\n",
    "            tab.append(s)\n",
    "            match_result += 1\n",
    "    \n",
    "    return match_result, tab"
   ]
  },
  {
   "cell_type": "code",
   "execution_count": 49,
   "metadata": {},
   "outputs": [
    {
     "name": "stdout",
     "output_type": "stream",
     "text": [
      "3 [4, 11, 15]\n"
     ]
    }
   ],
   "source": [
    "sum_of_match_naive_1, result_naive_1 = naive_string_maching(\"aaaaabbbaaaabaaab\", \"ab\")\n",
    "print(sum_of_match_naive_1, result_naive_1)"
   ]
  },
  {
   "attachments": {},
   "cell_type": "markdown",
   "metadata": {},
   "source": [
    "### Zad 1.2.1 Implemetacja automatu skończonego"
   ]
  },
  {
   "cell_type": "code",
   "execution_count": 50,
   "metadata": {},
   "outputs": [],
   "source": [
    "def fa_string_maching(text, delta):\n",
    "    q = 0\n",
    "    length = len(delta) - 1\n",
    "    tab = []\n",
    "    match_result = 0\n",
    "    for i in range(0, len(text)):\n",
    "        q = delta[q][text[i]]\n",
    "        if(q == length):\n",
    "            # print(f'Przesunięcie {i + 1 - q} jest poprawne')\n",
    "            tab.append(i+1-q)\n",
    "            match_result += 1\n",
    "    \n",
    "    return match_result, tab\n"
   ]
  },
  {
   "attachments": {},
   "cell_type": "markdown",
   "metadata": {},
   "source": [
    "### Zad 1.2.2 Implementacja algorytmu generującego funkcję przejścia\n"
   ]
  },
  {
   "cell_type": "code",
   "execution_count": 51,
   "metadata": {},
   "outputs": [],
   "source": [
    "def transition_table(pattern):\n",
    "    result = []\n",
    "    for q in range(len(pattern) + 1):\n",
    "        result.append({})\n",
    "        for a in ALPHABET: #Przechodzenie po alfabecie\n",
    "            k = min(len(pattern) + 1, q + 2)\n",
    "            while True:\n",
    "                k = k - 1\n",
    "                # q[:k] - prefix\n",
    "                # q[-k:] - sufix\n",
    "                if (k == 0 or pattern[:k] == (pattern[:q] + a)[-k:]):\n",
    "                    break\n",
    "            result[q][a] = k\n",
    "    \n",
    "    return result"
   ]
  },
  {
   "attachments": {},
   "cell_type": "markdown",
   "metadata": {},
   "source": [
    "### Zad 1.3 Algorytm Knutha-Morrisa-Pratta (KMP)"
   ]
  },
  {
   "cell_type": "code",
   "execution_count": 75,
   "metadata": {},
   "outputs": [],
   "source": [
    "def prefix_function(pattern):\n",
    "    pi = [0]\n",
    "    k = 0\n",
    "\n",
    "    for q in range(1, len(pattern)):\n",
    "    \n",
    "        while (k > 0 and pattern[k] != pattern[q]):\n",
    "            k = pi[k-1]\n",
    "        if(pattern[k] == pattern[q]):\n",
    "            k = k + 1\n",
    "        pi.append(k)\n",
    "    \n",
    "    return pi"
   ]
  },
  {
   "cell_type": "code",
   "execution_count": 81,
   "metadata": {},
   "outputs": [],
   "source": [
    "def kmp_string_matching(text, pattern, pi):\n",
    "    q = 0\n",
    "    tab = []\n",
    "    match_result = 0\n",
    "    for i in range(0, len(text)):\n",
    "        while(q > 0 and pattern[q] != text[i]):\n",
    "            q = pi[q-1]\n",
    "        if(pattern[q] == text[i]):\n",
    "            q = q + 1\n",
    "        if(q == len(pattern)):\n",
    "            # print(f\"Przesunięcie {i + 1 - q} jest poprawne\")\n",
    "            tab.append(i+1-q)\n",
    "            match_result += 1\n",
    "            q = pi[q-1]\n",
    "    \n",
    "    return match_result, tab"
   ]
  },
  {
   "attachments": {},
   "cell_type": "markdown",
   "metadata": {},
   "source": [
    "### Zad 2 - testy porównujące szybkość"
   ]
  },
  {
   "cell_type": "code",
   "execution_count": 100,
   "metadata": {},
   "outputs": [],
   "source": [
    "def patternFindingTimeTest(text, pattern, flag = True):\n",
    "    preprocessing_time = 0\n",
    "    main_algorithm_time = 0\n",
    "    \n",
    "    pre_naive = 0\n",
    "    main_naive = 0\n",
    "\n",
    "    pre_fa = 0\n",
    "    main_fa = 0\n",
    "\n",
    "    pre_kmp = 0\n",
    "    main_kmp = 0\n",
    "\n",
    "\n",
    "    # naive algorithm\n",
    "    for i in range(len(pattern)):\n",
    "        main_algorithm_time = time.perf_counter()\n",
    "        a, b = naive_string_maching(text, pattern[i])\n",
    "        main_naive += time.perf_counter() - main_algorithm_time\n",
    "\n",
    "    if flag:\n",
    "        print(\"Naive algorithm: \\n Pre-processing: {}    Find-pattern: {}   Whole time: {}\".format(\n",
    "            pre_naive, main_naive, main_naive + pre_naive))\n",
    "\n",
    "    # Finite automata\n",
    "    # pre-pocessing time\n",
    "    for i in range(len(pattern)):\n",
    "\n",
    "        preprocessing_time = time.perf_counter()\n",
    "        table = transition_table(pattern[i])\n",
    "        pre_fa += time.perf_counter() - preprocessing_time\n",
    "\n",
    "        # main algorithm\n",
    "        main_algorithm_time = time.perf_counter()\n",
    "        a, b = fa_string_maching(text, table)\n",
    "        main_fa += time.perf_counter() - main_algorithm_time\n",
    "    \n",
    "    if flag:\n",
    "        print(\"Finite automata algorithm: \\n Pre-processing: {}    Find-pattern: {}   Whole time: {}\".format(\n",
    "            pre_fa, main_fa, main_fa + pre_fa))\n",
    "    \n",
    "    # KMP algorithm\n",
    "    # pre-pocessing time\n",
    "    for i in range(len(pattern)):\n",
    "\n",
    "        preprocessing_time = time.perf_counter()\n",
    "        pi = prefix_function(pattern[i])\n",
    "        pre_kmp += time.perf_counter() - preprocessing_time\n",
    "\n",
    "        # main algorithm\n",
    "        main_algorithm_time = time.perf_counter()\n",
    "        a, b = kmp_string_matching(text, pattern, pi)\n",
    "        main_kmp += time.perf_counter() - main_algorithm_time\n",
    "    \n",
    "    if flag:\n",
    "        print(\"KMP algorithm: \\n Pre-processing: {}    Find-pattern: {}   Whole time: {}\".format(\n",
    "            pre_kmp, main_kmp, main_kmp + pre_kmp))\n",
    "    \n",
    "    if not flag:\n",
    "        return (pre_naive, pre_fa, pre_kmp), (main_naive, main_fa, main_kmp)"
   ]
  },
  {
   "attachments": {},
   "cell_type": "markdown",
   "metadata": {},
   "source": [
    "### Zad 3 - znajdowanie \"pan\", \"pani\" w Pan Tadeusz"
   ]
  },
  {
   "cell_type": "code",
   "execution_count": 99,
   "metadata": {},
   "outputs": [],
   "source": [
    "def findPattern(file, pattern):\n",
    "    with open(file) as data:\n",
    "        \n",
    "        pan_tadeusz = data.read()\n",
    "        # pattern = (\"pan\", \"pani\")\n",
    "\n",
    "        naive_res = 0\n",
    "        fa_res = 0\n",
    "        kmp_res = 0\n",
    "\n",
    "        # naive alg\n",
    "        for i in range(len(pattern)):\n",
    "            tmp_naive, naive_tab = naive_string_maching(pan_tadeusz, pattern[i])\n",
    "            naive_res += tmp_naive\n",
    "\n",
    "        # fa alg\n",
    "        for i in range(len(pattern)):\n",
    "            delta = transition_table(pattern[i])\n",
    "            # print('Krowa')\n",
    "            # print(delta)\n",
    "            tmp_fa, fa_tab1 = fa_string_maching(pan_tadeusz, delta)\n",
    "            fa_res += tmp_fa\n",
    "\n",
    "        # KMP alg\n",
    "        for i in range(len(pattern)):\n",
    "            pf = prefix_function(pattern[i])\n",
    "            tmp_kmp, kmp_tab1 = kmp_string_matching(pan_tadeusz, pattern[i], pf)\n",
    "            kmp_res += tmp_kmp\n",
    "        \n",
    "        print(\"Number of pattern: 'pan', 'pani' finded in Pan Tadeusz \\n naive: {}  fa: {}  kmp: {}\".format(\n",
    "            naive_res, fa_res, kmp_res))"
   ]
  },
  {
   "cell_type": "code",
   "execution_count": 85,
   "metadata": {},
   "outputs": [
    {
     "name": "stdout",
     "output_type": "stream",
     "text": [
      "Number of pattern: 'pan', 'pani' finded in Pan Tadeusz \n",
      " naive: 501  fa: 501  kmp: 501\n"
     ]
    }
   ],
   "source": [
    "findPattern(\"pan-tadeusz.txt\", (\"pan\", \"pani\"))"
   ]
  },
  {
   "attachments": {},
   "cell_type": "markdown",
   "metadata": {},
   "source": [
    "### Zad 4 - szybkość działania"
   ]
  },
  {
   "cell_type": "code",
   "execution_count": 102,
   "metadata": {},
   "outputs": [
    {
     "name": "stdout",
     "output_type": "stream",
     "text": [
      "Naive algorithm: \n",
      " Pre-processing: 0    Find-pattern: 0.14243348099989817   Whole time: 0.14243348099989817\n",
      "Finite automata algorithm: \n",
      " Pre-processing: 10.362894157999108    Find-pattern: 0.06045767399700708   Whole time: 10.423351831996115\n",
      "KMP algorithm: \n",
      " Pre-processing: 1.578400406287983e-05    Find-pattern: 0.09330065700123669   Whole time: 0.09331644100529957\n"
     ]
    }
   ],
   "source": [
    "with open(\"pan-tadeusz.txt\") as data:\n",
    "    pan_tadeusz = data.read()\n",
    "    patternFindingTimeTest(pan_tadeusz,(\"pan\", \"pani\"))"
   ]
  },
  {
   "cell_type": "code",
   "execution_count": 105,
   "metadata": {},
   "outputs": [],
   "source": [
    "pre_to_plot = {\"naive\" : [], \"fa\" : [], \"kmp\" : []}\n",
    "main_to_plot = {\"naive\" : [], \"fa\" : [], \"kmp\" : []}\n",
    "n = 5\n",
    "pattern = ('pan', 'pani')\n",
    "\n",
    "with open(\"pan-tadeusz.txt\") as data:\n",
    "    pan_tadeusz = data.read()\n",
    "\n",
    "    for i in range(n):\n",
    "        a, b = patternFindingTimeTest(pan_tadeusz, pattern, flag=False)\n",
    "\n",
    "        for j, key in enumerate(pre_to_plot.keys()):\n",
    "            pre_to_plot[key].append(a[j])\n",
    "            main_to_plot[key].append(b[j])"
   ]
  },
  {
   "cell_type": "code",
   "execution_count": 119,
   "metadata": {},
   "outputs": [
    {
     "name": "stdout",
     "output_type": "stream",
     "text": [
      "[1.9974002498202026e-05, 1.7250000382773578e-05, 1.5225996321532875e-05, 1.152299955720082e-05, 1.3898003089707345e-05]\n"
     ]
    }
   ],
   "source": [
    "print(pre_to_plot[\"kmp\"])"
   ]
  },
  {
   "cell_type": "code",
   "execution_count": 124,
   "metadata": {},
   "outputs": [
    {
     "data": {
      "image/png": "[encoded data removed]",
      "text/plain": [
       "<Figure size 1800x600 with 3 Axes>"
      ]
     },
     "metadata": {},
     "output_type": "display_data"
    }
   ],
   "source": [
    "r = np.arange(n)\n",
    "\n",
    "fig, (ax1, ax2, ax3) = plt.subplots(1, 3, figsize = (18, 6))\n",
    "\n",
    "ax1.plot(r, pre_to_plot[\"naive\"])\n",
    "ax2.plot(r, pre_to_plot[\"fa\"])\n",
    "ax3.plot(r, pre_to_plot[\"kmp\"])\n",
    "\n",
    "\n",
    "# ax1.legend([\"naive\", \"fa\", \"kmp\"],loc =4)\n",
    "\n",
    "plt.show()"
   ]
  }
 ],
 "metadata": {
  "kernelspec": {
   "display_name": "Python 3",
   "language": "python",
   "name": "python3"
  },
  "language_info": {
   "codemirror_mode": {
    "name": "ipython",
    "version": 3
   },
   "file_extension": ".py",
   "mimetype": "text/x-python",
   "name": "python",
   "nbconvert_exporter": "python",
   "pygments_lexer": "ipython3",
   "version": "3.10.6"
  },
  "orig_nbformat": 4,
  "vscode": {
   "interpreter": {
    "hash": "916dbcbb3f70747c44a77c7bcd40155683ae19c65e1c03b4aa3499c5328201f1"
   }
  }
 },
 "nbformat": 4,
 "nbformat_minor": 2
}
