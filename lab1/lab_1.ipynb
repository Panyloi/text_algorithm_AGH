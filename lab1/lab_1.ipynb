{
 "cells": [
  {
   "attachments": {},
   "cell_type": "markdown",
   "metadata": {},
   "source": [
    "## Lab 1"
   ]
  },
  {
   "attachments": {},
   "cell_type": "markdown",
   "metadata": {},
   "source": [
    "### zad 1.1 Implementacja algorytmu naiwego znajdującego pattern w tekście"
   ]
  },
  {
   "cell_type": "code",
   "execution_count": 1,
   "metadata": {},
   "outputs": [],
   "source": [
    "def naive_string_maching(text, pattern):\n",
    "    n = len(text)\n",
    "    m = len(pattern)\n",
    "    for s in range(n - m + 1):\n",
    "        if pattern == text[s : s + m]:\n",
    "            print(f'Znaleziono na pozycji {s}')"
   ]
  },
  {
   "cell_type": "code",
   "execution_count": 2,
   "metadata": {},
   "outputs": [
    {
     "name": "stdout",
     "output_type": "stream",
     "text": [
      "Znaleziono na pozycji 4\n",
      "Znaleziono na pozycji 11\n",
      "Znaleziono na pozycji 15\n"
     ]
    }
   ],
   "source": [
    "naive_string_maching(\"aaaaabbbaaaabaaab\", \"ab\")"
   ]
  },
  {
   "attachments": {},
   "cell_type": "markdown",
   "metadata": {},
   "source": [
    "### Zad 1.2 Implemetacja automatu skończonego"
   ]
  },
  {
   "cell_type": "code",
   "execution_count": 3,
   "metadata": {},
   "outputs": [],
   "source": [
    "def fa_string_maching(text, delta):\n",
    "    q = 0\n",
    "    length = len(delta) - 1\n",
    "    for i in range(0, len(text)):\n",
    "        q = delta[q] [text[i]]\n",
    "        if(q == length):\n",
    "            print(f'Przesunięcie {i + 1 - q} jest poprawne')"
   ]
  },
  {
   "cell_type": "code",
   "execution_count": 4,
   "metadata": {},
   "outputs": [
    {
     "name": "stdout",
     "output_type": "stream",
     "text": [
      "Przesunięcie 3 jest poprawne\n",
      "Przesunięcie 8 jest poprawne\n"
     ]
    }
   ],
   "source": [
    "pattern = \"aba\"\n",
    "# pre-processing - tutaj stworzenie macierzy przejscia\n",
    "delta = [\n",
    "    {\"a\": 1, \"b\": 0 },\n",
    "    {\"a\": 1, \"b\": 2 },\n",
    "    {\"a\": 3, \"b\": 0 },\n",
    "    {\"a\": 1, \"b\":  2},\n",
    "]\n",
    "\n",
    "fa_string_maching(\"abbabaaaaba\", delta)"
   ]
  }
 ],
 "metadata": {
  "kernelspec": {
   "display_name": "Python 3",
   "language": "python",
   "name": "python3"
  },
  "language_info": {
   "codemirror_mode": {
    "name": "ipython",
    "version": 3
   },
   "file_extension": ".py",
   "mimetype": "text/x-python",
   "name": "python",
   "nbconvert_exporter": "python",
   "pygments_lexer": "ipython3",
   "version": "3.10.6 (main, Nov 14 2022, 16:10:14) [GCC 11.3.0]"
  },
  "orig_nbformat": 4,
  "vscode": {
   "interpreter": {
    "hash": "916dbcbb3f70747c44a77c7bcd40155683ae19c65e1c03b4aa3499c5328201f1"
   }
  }
 },
 "nbformat": 4,
 "nbformat_minor": 2
}
