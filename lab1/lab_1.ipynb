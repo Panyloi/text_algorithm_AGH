{
 "cells": [
  {
   "attachments": {},
   "cell_type": "markdown",
   "metadata": {},
   "source": [
    "## Lab 1"
   ]
  },
  {
   "cell_type": "code",
   "execution_count": 8,
   "metadata": {},
   "outputs": [],
   "source": [
    "ALPHABET = ('a', 'ą', 'b', 'c', 'ć', 'd', 'e', 'ę', 'f', 'g',\n",
    "            'h', 'i', 'j', 'k', 'l', 'ł', 'm', 'n', 'ń', 'o',\n",
    "            'ó', 'p', 'r', 's', 'ś', 't', 'u', 'w', 'y', 'z',\n",
    "            'ź', 'ż')"
   ]
  },
  {
   "attachments": {},
   "cell_type": "markdown",
   "metadata": {},
   "source": [
    "### zad 1.1 Implementacja algorytmu naiwego znajdującego pattern w tekście"
   ]
  },
  {
   "cell_type": "code",
   "execution_count": 9,
   "metadata": {},
   "outputs": [],
   "source": [
    "def naive_string_maching(text, pattern):\n",
    "    n = len(text)\n",
    "    m = len(pattern)\n",
    "    for s in range(n - m + 1):\n",
    "        if pattern == text[s : s + m]:\n",
    "            print(f'Znaleziono na pozycji {s}')"
   ]
  },
  {
   "cell_type": "code",
   "execution_count": 10,
   "metadata": {},
   "outputs": [
    {
     "name": "stdout",
     "output_type": "stream",
     "text": [
      "Znaleziono na pozycji 4\n",
      "Znaleziono na pozycji 11\n",
      "Znaleziono na pozycji 15\n"
     ]
    }
   ],
   "source": [
    "naive_string_maching(\"aaaaabbbaaaabaaab\", \"ab\")"
   ]
  },
  {
   "attachments": {},
   "cell_type": "markdown",
   "metadata": {},
   "source": [
    "### Zad 1.2.1 Implemetacja automatu skończonego"
   ]
  },
  {
   "cell_type": "code",
   "execution_count": 11,
   "metadata": {},
   "outputs": [],
   "source": [
    "def fa_string_maching(text, delta):\n",
    "    q = 0\n",
    "    length = len(delta) - 1\n",
    "    for i in range(0, len(text)):\n",
    "        q = delta[q] [text[i]]\n",
    "        if(q == length):\n",
    "            print(f'Przesunięcie {i + 1 - q} jest poprawne')"
   ]
  },
  {
   "attachments": {},
   "cell_type": "markdown",
   "metadata": {},
   "source": [
    "### Zad 1.2.2 Implementacja algorytmu generującego funkcję przejścia\n"
   ]
  },
  {
   "cell_type": "code",
   "execution_count": 14,
   "metadata": {},
   "outputs": [],
   "source": [
    "def transition_table(pattern):\n",
    "    result = []\n",
    "    for q in range(len(pattern) + 1):\n",
    "        result.append({})\n",
    "        for a in ALPHABET: #Przechodzenie po alfabecie\n",
    "            k = min(len(pattern) + 1, q + 2)\n",
    "            while True:\n",
    "                k = k - 1\n",
    "                # q[:k] - prefix\n",
    "                # q[-k:] - sufix\n",
    "                if (k == 0 or pattern[:k] == (pattern[:q] + a)[-k:]):\n",
    "                    break\n",
    "            result[q][a] = k\n",
    "    \n",
    "    return result"
   ]
  },
  {
   "attachments": {},
   "cell_type": "markdown",
   "metadata": {},
   "source": [
    "### Zad 1.3 Algorytm Knutha-Morrisa-Pratta (KMP)"
   ]
  },
  {
   "cell_type": "code",
   "execution_count": 15,
   "metadata": {},
   "outputs": [],
   "source": [
    "def prefixFunction(pattern):\n",
    "    pi = [0]\n",
    "    k = 0\n",
    "\n",
    "    for q in range(1, len(pattern)):\n",
    "    \n",
    "        while (k > 0 and pattern[k] != pattern[q]):\n",
    "            k = pi[k-1]\n",
    "        if(pattern[k] == pattern[q]):\n",
    "            k = k + 1\n",
    "        pi.append(k)\n",
    "    \n",
    "    return pi"
   ]
  },
  {
   "cell_type": "code",
   "execution_count": 17,
   "metadata": {},
   "outputs": [],
   "source": [
    "def kmpStringMatching(text, pattern, pi):\n",
    "    q = 0\n",
    "    for i in range(0, len(text)):\n",
    "        while(q > 0 and pattern[q] != text[i]):\n",
    "            q = pi[q-1]\n",
    "        if(pattern[q] == text[i]):\n",
    "            q = q + 1\n",
    "        if(q == len(pattern)):\n",
    "            print(f\"Przesunięcie {i + 1 - q} jest poprawne\")\n",
    "            q = pi[q-1]"
   ]
  },
  {
   "attachments": {},
   "cell_type": "markdown",
   "metadata": {},
   "source": [
    "### Zad 2 - testy porównujące szybkość"
   ]
  },
  {
   "cell_type": "code",
   "execution_count": null,
   "metadata": {},
   "outputs": [],
   "source": []
  }
 ],
 "metadata": {
  "kernelspec": {
   "display_name": "Python 3",
   "language": "python",
   "name": "python3"
  },
  "language_info": {
   "codemirror_mode": {
    "name": "ipython",
    "version": 3
   },
   "file_extension": ".py",
   "mimetype": "text/x-python",
   "name": "python",
   "nbconvert_exporter": "python",
   "pygments_lexer": "ipython3",
   "version": "3.10.6"
  },
  "orig_nbformat": 4,
  "vscode": {
   "interpreter": {
    "hash": "916dbcbb3f70747c44a77c7bcd40155683ae19c65e1c03b4aa3499c5328201f1"
   }
  }
 },
 "nbformat": 4,
 "nbformat_minor": 2
}
