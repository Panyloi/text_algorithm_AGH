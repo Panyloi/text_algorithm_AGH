{
 "cells": [
  {
   "attachments": {},
   "cell_type": "markdown",
   "metadata": {},
   "source": [
    "## Laboratorium 2\n"
   ]
  },
  {
   "attachments": {},
   "cell_type": "markdown",
   "metadata": {},
   "source": [
    "### Huffman's static algorithm"
   ]
  },
  {
   "cell_type": "code",
   "execution_count": 5,
   "metadata": {},
   "outputs": [],
   "source": [
    "import time\n",
    "from queue import PriorityQueue\n",
    "import heapq\n",
    "from bitarray import bitarray"
   ]
  },
  {
   "attachments": {},
   "cell_type": "markdown",
   "metadata": {},
   "source": [
    "Algorytm do utworzenia drzewa dla skompresowania danych - Huffman statyczny "
   ]
  },
  {
   "cell_type": "code",
   "execution_count": 109,
   "metadata": {},
   "outputs": [],
   "source": [
    "class Node():\n",
    "    def __init__(self, value, char = None, left = None, right = None):\n",
    "        self.left = left\n",
    "        self.right = right\n",
    "        self.value = value\n",
    "        self.char = char\n",
    "        self.huff = ''\n",
    "\n",
    "    def  __lt__(self, nxt):\n",
    "        return self.value < nxt.value\n",
    "\n",
    "    def __str__(self) -> str:\n",
    "        return \"{} {}\".format(str(self.value),str(self.huff))\n",
    "\n",
    "class StaticHuffmanTree():\n",
    "    def __init__(self, filename):\n",
    "        self.root = None\n",
    "        self.filename = filename\n",
    "        self.text = None\n",
    "        self.char_freq = dict()\n",
    "        self.prefix_code = dict()\n",
    "\n",
    "    def createHuffmanTree(self):\n",
    "        self._readAllFile()\n",
    "        self._loadChars()\n",
    "        \n",
    "        Q = []\n",
    "        for item in self.char_freq.items():\n",
    "            heapq.heappush(Q, (item[1], Node(item[1], item[0])))\n",
    "\n",
    "        n = len(Q)\n",
    "        for _ in range(n-1):\n",
    "            left = heapq.heappop(Q)\n",
    "            left[1].huff = 0b0\n",
    "            right = heapq.heappop(Q)\n",
    "            right[1].huff = 0b1\n",
    "            value = left[0] + right[0]\n",
    "            z = Node(value, left=left[1], right=right[1])\n",
    "            heapq.heappush(Q, (value, z))\n",
    "            \n",
    "        self.root = heapq.heappop(Q)[1]\n",
    "        \n",
    "        self._createHuffmanCode(self.root, bitarray())\n",
    "\n",
    "    def _createHuffmanCode(self, node : Node, huff_code : bitarray):\n",
    "        code = huff_code.copy()\n",
    "\n",
    "        if node.char is not None:\n",
    "            self.prefix_code[node.char] = huff_code\n",
    "            return\n",
    "        \n",
    "        if node.left is not None:\n",
    "            huff_code.append(0)\n",
    "            self._createHuffmanCode(node.left, code)\n",
    "        if node.right is not None:\n",
    "            huff_code = code\n",
    "            huff_code.append(1)\n",
    "            self._createHuffmanCode(node.right, code)\n",
    "\n",
    "    def _readAllFile(self):\n",
    "        with open(self.filename, \"r\") as f:\n",
    "            self.text = f.read()\n",
    "    \n",
    "    def _loadChars(self):\n",
    "        for char in self.text:\n",
    "            if char in self.char_freq:\n",
    "                self.char_freq[char] += 1\n",
    "            else:\n",
    "                self.char_freq[char] = 1\n",
    "\n",
    "    def _printResult(self, tmp):\n",
    "        print(tmp)\n",
    "        \n",
    "        if tmp.left is not None:\n",
    "            self._printResult(tmp.left)\n",
    "        if tmp.right is not None:\n",
    "            self._printResult(tmp.right)\n",
    "    \n",
    "    def __str__(self):\n",
    "        self._printResult(self.root)\n",
    "        return \"\"\n",
    "\n",
    "\n"
   ]
  },
  {
   "cell_type": "code",
   "execution_count": 110,
   "metadata": {},
   "outputs": [],
   "source": [
    "huff = StaticHuffmanTree(\"example.txt\")"
   ]
  },
  {
   "cell_type": "code",
   "execution_count": 111,
   "metadata": {},
   "outputs": [],
   "source": [
    "huff.createHuffmanTree()\n"
   ]
  },
  {
   "cell_type": "code",
   "execution_count": 112,
   "metadata": {},
   "outputs": [
    {
     "name": "stdout",
     "output_type": "stream",
     "text": [
      "42 \n",
      "17 0\n",
      "8 0\n",
      "4 0\n",
      "2 0\n",
      "2 1\n",
      "1 0\n",
      "1 1\n",
      "4 1\n",
      "2 0\n",
      "1 0\n",
      "1 1\n",
      "2 1\n",
      "9 1\n",
      "25 1\n",
      "11 0\n",
      "5 0\n",
      "2 0\n",
      "1 0\n",
      "1 1\n",
      "3 1\n",
      "6 1\n",
      "14 1\n",
      "6 0\n",
      "3 0\n",
      "1 0\n",
      "2 1\n",
      "3 1\n",
      "8 1\n",
      "4 0\n",
      "2 0\n",
      "1 0\n",
      "1 1\n",
      "2 1\n",
      "1 0\n",
      "1 1\n",
      "4 1\n",
      "2 0\n",
      "2 1\n",
      "\n"
     ]
    }
   ],
   "source": [
    "print(huff)"
   ]
  }
 ],
 "metadata": {
  "kernelspec": {
   "display_name": "Python 3",
   "language": "python",
   "name": "python3"
  },
  "language_info": {
   "codemirror_mode": {
    "name": "ipython",
    "version": 3
   },
   "file_extension": ".py",
   "mimetype": "text/x-python",
   "name": "python",
   "nbconvert_exporter": "python",
   "pygments_lexer": "ipython3",
   "version": "3.10.6"
  },
  "orig_nbformat": 4
 },
 "nbformat": 4,
 "nbformat_minor": 2
}
