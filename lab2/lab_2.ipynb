{
 "cells": [
  {
   "attachments": {},
   "cell_type": "markdown",
   "metadata": {},
   "source": [
    "## Laboratorium 2\n"
   ]
  },
  {
   "attachments": {},
   "cell_type": "markdown",
   "metadata": {},
   "source": [
    "### Huffman's static algorithm"
   ]
  },
  {
   "cell_type": "code",
   "execution_count": 4,
   "metadata": {},
   "outputs": [],
   "source": [
    "import time\n",
    "from queue import PriorityQueue\n",
    "import heapq"
   ]
  },
  {
   "attachments": {},
   "cell_type": "markdown",
   "metadata": {},
   "source": [
    "Algorytm do utworzenia drzewa dla skompresowania danych - Huffman statyczny "
   ]
  },
  {
   "cell_type": "code",
   "execution_count": null,
   "metadata": {},
   "outputs": [],
   "source": [
    "class StaticHuffmanTree():\n",
    "    def __init__(self, filename):\n",
    "        self.root = None\n",
    "        self.left = None\n",
    "        self.right = None\n",
    "        self.filename = filename\n",
    "        self.text = None\n",
    "        self.char_freq = dict()\n",
    "\n",
    "    def createHuffmanTree(self):\n",
    "        n = len(self.char_freq)\n",
    "        Q = []\n",
    "        heapq.heapify(Q, self.char_freq.items())\n",
    "        for item in self.char_freq.items():\n",
    "            heapq.heappush(Q, (item[1], item[0]))\n",
    "    \n",
    "\n",
    "    def _readAllFile(self):\n",
    "        with open(self.filename, \"r\") as f:\n",
    "            text = f.read()\n",
    "    \n",
    "    def _loadChars(self):\n",
    "        for char in self.text:\n",
    "            if char in self.char_freq:\n",
    "                self.char_freq[char] += 1\n",
    "            else:\n",
    "                self.char_freq[char] = 1\n"
   ]
  }
 ],
 "metadata": {
  "kernelspec": {
   "display_name": "Python 3",
   "language": "python",
   "name": "python3"
  },
  "language_info": {
   "codemirror_mode": {
    "name": "ipython",
    "version": 3
   },
   "file_extension": ".py",
   "mimetype": "text/x-python",
   "name": "python",
   "nbconvert_exporter": "python",
   "pygments_lexer": "ipython3",
   "version": "3.10.6"
  },
  "orig_nbformat": 4
 },
 "nbformat": 4,
 "nbformat_minor": 2
}
