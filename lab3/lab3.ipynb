{
 "cells": [
  {
   "attachments": {},
   "cell_type": "markdown",
   "metadata": {},
   "source": [
    "## Laboratorium 3"
   ]
  },
  {
   "cell_type": "code",
   "execution_count": 1,
   "metadata": {},
   "outputs": [],
   "source": [
    "import numpy as np\n"
   ]
  },
  {
   "cell_type": "code",
   "execution_count": 2,
   "metadata": {},
   "outputs": [],
   "source": [
    "# imports for tokenizer\n",
    "from spacy.tokenizer import Tokenizer\n",
    "from spacy.lang.pl import Polish\n",
    "nlp = Polish()\n",
    "# Create a blank Tokenizer with just the English vocab\n",
    "tokenizer = Tokenizer(nlp.vocab)\n",
    "# tokenizer = nlp.tokenizer\n"
   ]
  },
  {
   "attachments": {},
   "cell_type": "markdown",
   "metadata": {},
   "source": [
    "### Zadanie 1 i 2"
   ]
  },
  {
   "cell_type": "code",
   "execution_count": 107,
   "metadata": {},
   "outputs": [],
   "source": [
    "class StringHelper():\n",
    "    def __init__(self, str1: str, str2: str):\n",
    "        self.str1 = str1\n",
    "        self.str2 = str2\n",
    "        self.matrix_of_changes = None\n",
    "        self.levDistance = None\n",
    "        self.document = None\n",
    "        self.operations = []\n",
    "        self.positions = []\n",
    "        self.flag_to_print = True\n",
    "\n",
    "    def is_lev(self, flag):\n",
    "        if flag:\n",
    "            return 1\n",
    "        return 2\n",
    "\n",
    "    def levenshtein_distance(self, str1=None, str2=None, flag = True):\n",
    "        if str1 is None : str1 = self.str1\n",
    "        if str2 is None : str2 = self.str2\n",
    "        len1 = len(str1) + 1  # wiersze\n",
    "        len2 = len(str2) + 1  # kolumny\n",
    "        tab = [[0 for _ in range(len2)] for _ in range(len1)]\n",
    "\n",
    "        for i in range(len1):\n",
    "            tab[i][0] = i\n",
    "        for i in range(len2):\n",
    "            tab[0][i] = i\n",
    "\n",
    "        for i in range(1, len1):\n",
    "            for j in range(1, len2):\n",
    "                if str1[i-1] != str2[j-1]:\n",
    "                    tab[i][j] = min(tab[i-1][j-1] + self.is_lev(flag), tab[i]\n",
    "                                    [j-1] + 1, tab[i-1][j] + 1)\n",
    "                else:\n",
    "                    tab[i][j] = min(tab[i-1][j-1], tab[i]\n",
    "                                [j-1] + 1, tab[i-1][j] + 1)\n",
    "\n",
    "        # for i in range(len(tab)):\n",
    "        #     print(tab[i])\n",
    "        # print(\"WYNIK\")\n",
    "        return tab, min(tab[-1])\n",
    "    \n",
    "    def get_path_of_operations(self):\n",
    "        return self.operations\n",
    "\n",
    "    def get_position_of_changes(self):\n",
    "        return self.positions\n",
    "\n",
    "    def add_letter(self, a, letter_to_add, position):\n",
    "        if self.flag_to_print:\n",
    "            str_to_print = \"{}*{}*{} (adding letter {})\".format(\n",
    "                a[:position], letter_to_add, a[position:], letter_to_add)\n",
    "            print(str_to_print)\n",
    "        return \"{}{}{}\".format(a[:position], letter_to_add, a[position:])\n",
    "\n",
    "\n",
    "    def delete_letter(self, a, letter_to_delete, position):\n",
    "        if self.flag_to_print:\n",
    "            str_to_print = \"{}**{} (deleting letter {})\".format(\n",
    "                a[:position], a[position + 1:], letter_to_delete)\n",
    "            print(str_to_print)\n",
    "        return \"{}{}\".format(a[:position], a[position + 1:])\n",
    "\n",
    "\n",
    "    def change_letter(self, a, old_letter, new_letter, position):\n",
    "        if self.flag_to_print:\n",
    "            str_to_print = \"{}*{}*{} (changing letter {}->{})\".format(\n",
    "                a[:position], new_letter, a[position+1:], old_letter, new_letter)\n",
    "            print(str_to_print)\n",
    "        return \"{}{}{}\".format(a[:position], new_letter, a[position+1:])\n",
    "\n",
    "\n",
    "    def visualizate_steps(self, str1=None, str2=None, matrix_of_changes=None, flag = True):\n",
    "        # we are changing str1 -> str2\n",
    "        if str1 is None : str1 = self.str1\n",
    "        if str2 is None : str2 = self.str2\n",
    "        if matrix_of_changes is None:\n",
    "            self.matrix_of_changes, self.levDistance = self.levenshtein_distance(flag = flag)\n",
    "            matrix_of_changes = self.matrix_of_changes\n",
    "\n",
    "        y = len(str1)  # rows\n",
    "        x = len(str2) # columns\n",
    "            \n",
    "\n",
    "        while x > 0 or y > 0:\n",
    "            # curr_num = matrix_of_changes[y][x]\n",
    "            # tmp_x = matrix_of_changes[y][x - 1] if x - 1 >= 0 else float(\"inf\")\n",
    "            # tmp_y = matrix_of_changes[y - 1][x] if y - 1 >= 0 else float(\"inf\")\n",
    "            # tmp_x_y = matrix_of_changes[y - 1][x - 1] if tmp_x != float(\"inf\") and tmp_y != float(\"inf\") else float(\"inf\") \n",
    "            \n",
    "            # curr_min = min(tmp_x, tmp_y, tmp_x_y)\n",
    "            if matrix_of_changes[y - 1][x] + 1 == matrix_of_changes[y][x]:\n",
    "                self.operations.append(\"DELETE\")\n",
    "                y -= 1\n",
    "            elif matrix_of_changes[y][x - 1] + 1 == matrix_of_changes[y][x]:\n",
    "                self.operations.append(\"ADD\")\n",
    "                x -= 1\n",
    "            elif matrix_of_changes[y - 1][x - 1] == matrix_of_changes[y][x]:\n",
    "                self.operations.append(\"NOTHING\")\n",
    "                y -= 1\n",
    "                x -= 1\n",
    "            else:\n",
    "                self.operations.append(\"CHANGE\")\n",
    "                y -= 1\n",
    "                x -= 1\n",
    "\n",
    "\n",
    "            self.positions.append(x)\n",
    "\n",
    "        self.operations.reverse()\n",
    "\n",
    "        if self.flag_to_print:\n",
    "            k = 0\n",
    "            print(str1)\n",
    "            for i in range(len(self.operations)):\n",
    "                match self.operations[i]:\n",
    "                    case \"ADD\":\n",
    "                        str1 = self.add_letter(str1, str2[k], k)\n",
    "                    case \"DELETE\":\n",
    "                        str1 = self.delete_letter(str1, str1[k], k)\n",
    "                        continue\n",
    "                    case \"CHANGE\":\n",
    "                        str1 = self.change_letter(str1, str1[k], str2[k], k)\n",
    "                k += 1\n",
    "                \n",
    "            print(str1)\n",
    "        \n",
    "        self.positions.reverse()\n",
    "    \n"
   ]
  },
  {
   "attachments": {},
   "cell_type": "markdown",
   "metadata": {},
   "source": [
    "### Zadanie 3 - przedstawienie wyników algorytmu dla różnych danych"
   ]
  },
  {
   "cell_type": "code",
   "execution_count": 108,
   "metadata": {},
   "outputs": [
    {
     "name": "stdout",
     "output_type": "stream",
     "text": [
      "los\n",
      "*k*los (adding letter k)\n",
      "klo*c* (changing letter s->c)\n",
      "kloc\n"
     ]
    }
   ],
   "source": [
    "example1 = StringHelper(\"los\", \"kloc\")\n",
    "example1.visualizate_steps()"
   ]
  },
  {
   "cell_type": "code",
   "execution_count": 109,
   "metadata": {},
   "outputs": [
    {
     "name": "stdout",
     "output_type": "stream",
     "text": [
      "Łódź\n",
      "*L*ódź (changing letter Ł->L)\n",
      "L*o*dź (changing letter ó->o)\n",
      "Lod*z* (changing letter ź->z)\n",
      "Lodz\n"
     ]
    }
   ],
   "source": [
    "example2 = StringHelper(\"Łódź\", \"Lodz\")\n",
    "example2.visualizate_steps()"
   ]
  },
  {
   "cell_type": "code",
   "execution_count": 83,
   "metadata": {},
   "outputs": [
    {
     "name": "stdout",
     "output_type": "stream",
     "text": [
      "kwintesencja\n",
      "*q*wintesencja (changing letter k->q)\n",
      "qwinte*s*sencja (adding letter s)\n",
      "qwintessen**ja (deleting letter c)\n",
      "qwintessen*c*a (changing letter j->c)\n",
      "qwintessenca\n"
     ]
    }
   ],
   "source": [
    "example3 = StringHelper(\"kwintesencja\", \"quintessence\")\n",
    "example3.visualizate_steps()"
   ]
  },
  {
   "cell_type": "code",
   "execution_count": 122,
   "metadata": {},
   "outputs": [
    {
     "name": "stdout",
     "output_type": "stream",
     "text": [
      "ATGAATCTTACCGCCTCG\n",
      "ATGA*G*TCTTACCGCCTCG (changing letter A->G)\n",
      "ATGAG*G*CTTACCGCCTCG (changing letter T->G)\n",
      "ATGAGGCT*C*TACCGCCTCG (adding letter C)\n",
      "ATGAGGCTCT*G*CCGCCTCG (changing letter A->G)\n",
      "ATGAGGCTCTG*G*CCGCCTCG (adding letter G)\n",
      "ATGAGGCTCTGGCC**CCTCG (deleting letter G)\n",
      "ATGAGGCTCTGGCCCCT**G (deleting letter C)\n",
      "ATGAGGCTCTGGCCCCTG\n"
     ]
    }
   ],
   "source": [
    "example4 = StringHelper(\"ATGAATCTTACCGCCTCG\", \"ATGAGGCTCTGGCCCCTG\")\n",
    "example4.visualizate_steps()"
   ]
  },
  {
   "cell_type": "code",
   "execution_count": 97,
   "metadata": {},
   "outputs": [],
   "source": [
    "example5 = StringHelper(\"kwintesencja\", \"quintessence\")\n",
    "example5.lcs()"
   ]
  },
  {
   "attachments": {},
   "cell_type": "markdown",
   "metadata": {},
   "source": [
    "### Zadanie 4"
   ]
  },
  {
   "cell_type": "code",
   "execution_count": 5,
   "metadata": {},
   "outputs": [],
   "source": [
    "def lcs(str1, str2):\n",
    "\n",
    "    len1 = len(str1) + 1  # wiersze\n",
    "    len2 = len(str2) + 1  # kolumny\n",
    "    tab = [[0 for _ in range(len2)] for _ in range(len1)]\n",
    "\n",
    "    for i in range(len1):\n",
    "        tab[i][0] = i\n",
    "    for i in range(len2):\n",
    "        tab[0][i] = i\n",
    "\n",
    "    for i in range(1, len1):\n",
    "        for j in range(1, len2):\n",
    "            if str1[i-1] != str2[j-1]:\n",
    "                tab[i][j] = min(tab[i-1][j-1] + 2, tab[i]\n",
    "                                [j-1] + 1, tab[i-1][j] + 1)\n",
    "            else:\n",
    "                tab[i][j] = min(tab[i-1][j-1], tab[i]\n",
    "                                [j-1] + 1, tab[i-1][j] + 1)\n",
    "\n",
    "\n",
    "    return (len(str1) + len(str2) - tab[-1][-1])/2\n",
    "\n",
    " "
   ]
  },
  {
   "cell_type": "code",
   "execution_count": 6,
   "metadata": {},
   "outputs": [],
   "source": [
    "def remove_3_percentage_of_tokens(tokens):\n",
    "    new_tokens = []\n",
    "    for token in tokens:\n",
    "        if np.random.random() > 0.03:\n",
    "            new_tokens.append(token)\n",
    "    return new_tokens"
   ]
  },
  {
   "cell_type": "code",
   "execution_count": 7,
   "metadata": {},
   "outputs": [],
   "source": [
    "def save_tokens_to_file(tokens, filename):\n",
    "    with open(\"{}.txt\".format(filename), \"w\") as f:\n",
    "        for token in tokens:\n",
    "            f.write(token.text_with_ws)"
   ]
  },
  {
   "cell_type": "code",
   "execution_count": 115,
   "metadata": {},
   "outputs": [],
   "source": [
    "filename = \"romeo-i-julia-700.txt\""
   ]
  },
  {
   "cell_type": "code",
   "execution_count": 116,
   "metadata": {},
   "outputs": [],
   "source": [
    "with open(filename, \"r\") as f:\n",
    "    content = f.read()"
   ]
  },
  {
   "attachments": {},
   "cell_type": "markdown",
   "metadata": {},
   "source": [
    "### Zadanie 5 i 6"
   ]
  },
  {
   "cell_type": "code",
   "execution_count": 117,
   "metadata": {},
   "outputs": [],
   "source": [
    "tokens = tokenizer(content)\n",
    "tokens1 = remove_3_percentage_of_tokens(tokens)\n",
    "tokens2 = remove_3_percentage_of_tokens(tokens)"
   ]
  },
  {
   "cell_type": "code",
   "execution_count": 118,
   "metadata": {},
   "outputs": [],
   "source": [
    "save_tokens_to_file(tokens1, \"text1\")\n",
    "save_tokens_to_file(tokens2, \"text2\")"
   ]
  },
  {
   "attachments": {},
   "cell_type": "markdown",
   "metadata": {},
   "source": [
    "### Zadanie 7"
   ]
  },
  {
   "cell_type": "code",
   "execution_count": 12,
   "metadata": {},
   "outputs": [
    {
     "data": {
      "text/plain": [
       "2146.0"
      ]
     },
     "execution_count": 12,
     "metadata": {},
     "output_type": "execute_result"
    }
   ],
   "source": [
    "lcs(tokens1, tokens2)"
   ]
  },
  {
   "cell_type": "code",
   "execution_count": 13,
   "metadata": {},
   "outputs": [],
   "source": [
    "with open(\"text1.txt\", \"r\") as f:\n",
    "    text1 = f.read()\n",
    "with open(\"text2.txt\", \"r\") as f:\n",
    "    text2 = f.read()"
   ]
  },
  {
   "cell_type": "code",
   "execution_count": 14,
   "metadata": {},
   "outputs": [
    {
     "data": {
      "text/plain": [
       "11827.0"
      ]
     },
     "execution_count": 14,
     "metadata": {},
     "output_type": "execute_result"
    }
   ],
   "source": [
    "lcs(text1, text2)"
   ]
  },
  {
   "attachments": {},
   "cell_type": "markdown",
   "metadata": {},
   "source": [
    "### Zadanie 8"
   ]
  },
  {
   "cell_type": "code",
   "execution_count": 127,
   "metadata": {},
   "outputs": [],
   "source": [
    "def diff(filename1, filename2):\n",
    "    with open(filename1, \"r\") as f:\n",
    "        text1 = f.read()\n",
    "\n",
    "    with open(filename2, \"r\") as f:\n",
    "        text2 = f.read()\n",
    "\n",
    "    text1 = text1.split('\\n')\n",
    "    text2 = text2.split('\\n')\n",
    "\n",
    "    johoho = StringHelper(text1, text2)\n",
    "    johoho.flag_to_print = False\n",
    "    johoho.visualizate_steps(flag = False)\n",
    "\n",
    "    operations = johoho.get_path_of_operations()\n",
    "    positions = johoho.get_position_of_changes()\n",
    "    j = 0\n",
    "    for i in range(len(operations)):\n",
    "        match operations[i]:\n",
    "            case \"ADD\":\n",
    "                print(\"> ({}) {}\".format(positions[i] + 1, text1[positions[i]]))\n",
    "                j -= 1\n",
    "            case \"DELETE\":\n",
    "                print(\"< ({}) {}\".format(positions[i] + j + 1, text2[positions[i] + j]))\n",
    "                j += 1\n",
    "    # BRUH: program się wywala gdy na końcu pliku są puste lini :L\n",
    "            "
   ]
  },
  {
   "attachments": {},
   "cell_type": "markdown",
   "metadata": {},
   "source": [
    "### Zadanie 9"
   ]
  },
  {
   "cell_type": "code",
   "execution_count": 129,
   "metadata": {},
   "outputs": [
    {
     "name": "stdout",
     "output_type": "stream",
     "text": [
      "> (4) tłum. Józef Paszkowski\n",
      "< (4) Józef Paszkowski\n",
      "> (10) \n",
      "> (11)  ESKALUS — książę panujący w Weronie\n",
      "> (12)  * PARYS — młody Weroneńczyk szlachetnego krewny księcia\n",
      "> (13)  MONTEKI, KAPULET — naczelnicy dwóch domów nieprzyjaznych sobie\n",
      "< (10) OSOBY:\n",
      "< (11)  * ESKALUS — książę panujący w Weronie\n",
      "< (12)  PARYS — młody Weroneńczyk szlachetnego rodu, krewny księcia\n",
      "< (13)  * MONTEKI, KAPULET — naczelnicy dwóch domów nieprzyjaznych sobie\n",
      "> (17)  * BENWOLIO — synowiec Montekiego\n",
      "< (17)  * — synowiec Montekiego\n",
      "> (27)  * PIOTR\n",
      "> (28)  * DOWÓDCA WARTY\n",
      "> (29)  * PANI MONTEKI — małżonka Montekiego\n",
      "< (27)  * PIOTR* DOWÓDCA WARTY\n",
      "< (28)  * PANI MONTEKI małżonka Montekiego\n",
      "< (29)  * PANI KAPULET — małżonka Kapuleta\n",
      "< (30)  * JULIA — córka Kapuletów\n",
      "> (32)  * MARTA — mamka Julii\n",
      "< (33) \n",
      "> (46) Dwa rody, zacne jednako i sławne —\n",
      "< (47) Do nowej zbrodni pchają złości dawne,\n",
      "> (52) Pod najstraszliwszą z gwiazd, kochanków dwoje;\n",
      "> (53) Po pełnym przygód nieszczęśliwych bycie\n",
      "> (54) Śmierć ich stłumiła rodzicielskie boje.Tej ich miłości przebieg zbyt bolesny\n",
      "> (55) I jak się ojców nienawiść nie zmienia,\n",
      "< (53) Śmierć ich stłumiła rodzicielskie boje.\n",
      "< (54) \n",
      "> (66) \n",
      "< (65) \n",
      "< (67) \n",
      "> (70) SAMSON\n",
      "> (71) \n",
      "> (72) Dalipan, Grzegorzu, nie będziem pierza.\n",
      "> (73) \n",
      "> (74) \n",
      "> (77) Ma się rozumieć, bobyśmy byli zdziercami.\n",
      "< (72) / Plac publiczny. Wchodzą Samson uzbrojeni w tarcze i miecze. /\n",
      "> (82) Ale będziemy darli koty, jak z nami zadrą.\n",
      "< (77) Dalipan, Grzegorzu, nie będziem darli pierza.\n",
      "< (79) \n",
      "< (80) GRZEGORZ\n",
      "< (81) \n",
      "> (104) \n",
      "< (102) SAMSON\n",
      "> (114) \n",
      "< (112) SAMSON\n",
      "> (119) \n",
      "< (117) GRZEGORZ\n",
      "> (124) \n",
      "< (122) SAMSON\n",
      "> (129) \n",
      "< (127) GRZEGORZ\n",
      "> (134) \n",
      "< (132) SAMSON\n",
      "> (149) / Wchodzą Abraham i Baltazar. /\n",
      "< (147) GRZEGORZ\n",
      "> (176) Marsa im nastawię przechodząc; niech go sobie, jak chcą, tłumaczą.\n",
      "< (174) SAMSON\n",
      "> (178) \n",
      "> (179) SAMSON\n",
      "> (180) \n",
      "> (191) \n",
      "< (186) Nie jak chcą, ale jak śmią. Ja im gębę wykrzywię; hańba im, jeśli to ścierpią.\n",
      "> (194) Czy na nas się skrzywiłeś, mości panie?\n",
      "< (189) ABRAHAM\n",
      "> (196) \n",
      "> (198) \n",
      "> (235) \n",
      "< (228) ABRAHAM\n",
      "> (245) / na stronie do Samsona /\n",
      "< (238) ABRAHAM\n",
      "< (240) Nie lepszy.\n",
      "< (242) \n",
      "> (255) ABRAHAM\n",
      "< (250) / na stronie do Samsona /\n",
      "< (252) Powiedz: lepszy. Oto nadchodzi jeden z krewnych mego pana.\n",
      "< (254) \n",
      "> (268) \n",
      "< (265) Dobądźcie mieczów, jeśli macie serca. Grzegorzu, pamiętaj o swoim pchnięciu.\n",
      "> (270) \n",
      "> (271) \n",
      "> (274) Cóż to? krzyżujesz oręż z parobkami?\n",
      "< (269) \n",
      "< (278) \n",
      "< (280) Do mnie, Benwolio! pilnuj swego życia.\n",
      "< (281) \n",
      "> (285) \n",
      "> (286) Z gołym orężem pokój? Nienawidzę\n",
      "< (283) \n",
      "< (284) \n",
      "< (285) Przywracam tylko pokój. Włóż miecz nazad\n",
      "< (286) Albo wraz ze mną rozdziel nim tych ludzi.TYBALTZ gołym pokój? Nienawidzę\n",
      "> (289) Broń się, nikczemny tchórzu.\n",
      "< (289) Broń się, nikczemny tchórzu./ Walczą. Nadchodzi kilku przyjaciół obu partii i mieszają się do zwady; wkrótce potem wchodzą mieszczanie z pałkami. /\n",
      "< (291) \n",
      "< (293) \n",
      "> (294) PIERWSZY OBYWATEL\n",
      "< (296) \n",
      "> (297) Precz z Montekimi, precz z Kapuletami!\n",
      "< (299) \n",
      "> (299) / Wchodzą Kapulet i Pani Kapulet /KAPULET\n",
      "> (300) \n",
      "> (301) Co za hałas? Podajcie mi długi\n",
      "> (321) \n",
      "< (320) \n",
      "> (330) \n",
      "< (329) \n",
      "> (339) Co wściekłych gniewów żar gasicie\n",
      "> (340) W własnych żył swoich źródle purpurowym;\n",
      "< (338) Bezcześciciele bratniej stali! Cóż to,\n",
      "< (339) Czy nie Ludzie czy zwierzęta,\n",
      "> (342) Z dłoni skrwawionych tę broń buntowniczą\n",
      "< (341) W własnych żył swoich źródle purpurowym;\n",
      "> (346) Przez was, Monteki oraz Kapulecie,\n",
      "< (345) Wasz rozjątrzony książę postanawia.\n",
      "> (348) Tak poważni wiekiem i zasługą\n",
      "> (349) werońscy musieli\n",
      "> (350) Porzucić swoje wygodne przybory\n",
      "< (347) Przez was, Monteki oraz Kapulecie,\n",
      "< (348) Trzykroć już spokój miasta zakłóciły,\n",
      "< (349) Tak poważni wiekiem zasługą\n",
      "> (355) Zamęt pokoju opłacicie życiem.\n",
      "< (354) Niechęci wasze przecinać. Jeżeli\n",
      "> (357) Ty, Kapulecie, pójdziesz ze mną razem;\n",
      "< (356) Zamęt pokoju opłacicie życiem.\n",
      "> (360) Jeszcze raz wzywam wszystkich tu \n",
      "> (361) Pod karą śmierci, aby się rozeszli.\n",
      "> (362) \n",
      "< (359) Ty zaś, Monteki, przyjdziesz po południu\n",
      "< (360) Na ratusz, gdzie ci dokładnie w tym względzie\n",
      "> (365) \n",
      "< (363) Pod karą śmierci, aby się rozeszli.\n",
      "< (364) \n",
      "> (368) \n",
      "> (369) Nieprzyjaciela naszego pachołcy\n",
      "> (370) I wasi już się bili, kiedym nadszedł;\n",
      "> (371) Dobyłem broni, aby ich rozdzielić:\n",
      "> (372) Wtem wpadł szalony z gołym mieczem,\n",
      "> (373) I harde zionąc mi w uszy wyzwanie,\n",
      "> (379) Aż książę nadszedł i rozdzielił wszystkich.\n",
      "< (372) \n",
      "> (382) PANI MONTEKI\n",
      "< (375) \n",
      "> (385) Jakże się cieszę, że nie był w tym starciu.\n",
      "> (386) \n",
      "< (378) Dobyłem broni, aby ich rozdzielić:\n",
      "< (379) Wtem wpadł szalony Tybalt z gołym mieczem,\n",
      "< (381) Jął się wywijać nim i siec powietrze,\n",
      "< (382) Które świszczało tylko szydząc z marnych\n",
      "< (383) Jego zamachów. Gdyśmy tak ze sobą\n",
      "< (388) Lecz gdzież Romeo? Widział żeś go dzisiaj?\n",
      "> (393) W sykomorowy ów gaj, co się \n",
      "> (395) Tam, już tak rano, syn wasz się przechadzał.\n",
      "< (391) \n",
      "> (397) Lecz on, spostrzegłszy mię, skrył się natychmiast\n",
      "< (393) \n",
      "> (399) Pociąg ten jego do odosobnienia\n",
      "< (395) W złotych się oknach wschodu \n",
      "> (413) Wesołe słońce sprzed Aurory\n",
      "< (409) \n",
      "> (417) Zasłaniał okna przed jasnym dnia blaskiem\n",
      "< (413) Nieraz o świcie już go tam widziano\n",
      "> (419) W czarne bezdroża dusza jego zajdzie,\n",
      "< (415) A chmury — swego oblicza chmurami,\n",
      "> (421) \n",
      "< (417) Wesołe słońce sprzed łoża Aurory\n",
      "> (434) \n",
      "< (430) \n",
      "> (439) \n",
      "< (435) \n",
      "> (444) Jak pączek kwiatu, co go robak gryzie,\n",
      "> (445) Nim światu wonny swój kielich roztoczył\n",
      "< (440) \n",
      "< (441) \n",
      "> (449) \n",
      "> (450) / Romeo ukazuje się w głębi. /\n",
      "< (445) Lecz on jedyny powiernik swych smutków.\n",
      "< (446) Tak im jest wierny, tak zamknięty w sobie,\n",
      "> (460) \n",
      "< (456) \n",
      "> (466) \n",
      "< (462) \n",
      "> (468) \n",
      "< (464) \n",
      "> (500) \n",
      "< (496) \n",
      "< (519) \n",
      "> (524) \n",
      "> (526) \n",
      "< (522) \n",
      "> (535) Odpychająca! Poważna pustoto!\n",
      "< (531) Niestety! Czemuż, z zasłoną na skroni,\n",
      "> (537) Jasna mgło! Zimny żarze! Martwy ruchu!\n",
      "< (533) Gdzież dziś jeść będziem? Ach! Był tu podobno\n",
      "> (554) \n",
      "< (550) \n",
      "< (552) ROMEO\n",
      "< (553) \n",
      "< (554) Nad czym, poczciwa duszo?BENWOLIO\n",
      "> (564) Brzemię powiększasz przewyżką twojego;\n",
      "> (565) Współczucie twoje nad moim cierpieniem\n",
      "< (563) Miłości nawet przez odbitkę działa?\n",
      "< (564) Dość mi ciężył mój smutek, ty jego\n",
      "< (565) Brzemię powiększasz przewyżką twojego;Współczucie twoje nad cierpieniem\n",
      "> (567) Dla mego serca. Miłość, przyjacielu,\n",
      "> (568) To dym, co z parą westchnień się unosi;\n",
      "< (567) Dla mego Miłość, przyjacielu,\n",
      "< (568) To dym, co parą się unosi;\n",
      "> (570) Morze w którym nieszczęśliwy tonie.\n",
      "< (570) Morze łez, w którym nieszczęśliwy tonie.\n",
      "> (586) Ach! ja nie jestem tu, nie jestem sobą;\n",
      "< (586) Ach! ja nie tu, nie jestem sobą;\n",
      "> (601) BENWOLIO\n",
      "> (602) \n",
      "< (601) BENWOLIONie jęczyć,\n",
      "< (602) Tylko mi dać do tego problemu,\n",
      "< (603) Kogóż to kochasz? Powiedz.\n",
      "< (604) \n",
      "> (614) \n",
      "> (615) \n",
      "> (616) BENWOLIOCelniem mierzył,\n",
      "< (616)                         Celniem mierzył,\n",
      "> (633) A chybił. tu kołczany\n",
      "< (633) właśnieś chybił. Niczym tu kołczany\n",
      "> (636) Grotów miłości się nie boi;\n",
      "> (637) Szydzi z nawału zaklęć oblężniczych;\n",
      "> (638) Odpiera szturmy spojrzeń napastniczych;\n",
      "< (636) Grotów miłości wcale się nie boi;\n",
      "< (637) Szydzi z nawału zaklęć \n",
      "< (638) Odpiera szturmy spojrzeń \n",
      "> (641) kiedy umrze, do grobu z nią zstąpi\n",
      "< (641) Że kiedy umrze, do grobu z nią zstąpi\n",
      "< (645) \n",
      "< (647) Wiecznie–ż sama zostać z swym bogactwem?\n",
      "> (647) Wiecznie–ż chce sama zostać z swym \n",
      "> (649) \n",
      "> (652) jest; i to jest marnotrawstwem,\n",
      "> (653) Bo piękność, którą własna srogość strawia,\n",
      "< (652) Tak jest; i skąpstwo to jest marnotrawstwem,\n",
      "< (653) piękność, własna srogość strawia,\n"
     ]
    }
   ],
   "source": [
    "diff(\"text1.txt\", \"text2.txt\")"
   ]
  }
 ],
 "metadata": {
  "kernelspec": {
   "display_name": "Python 3",
   "language": "python",
   "name": "python3"
  },
  "language_info": {
   "codemirror_mode": {
    "name": "ipython",
    "version": 3
   },
   "file_extension": ".py",
   "mimetype": "text/x-python",
   "name": "python",
   "nbconvert_exporter": "python",
   "pygments_lexer": "ipython3",
   "version": "3.10.6"
  },
  "orig_nbformat": 4
 },
 "nbformat": 4,
 "nbformat_minor": 2
}
