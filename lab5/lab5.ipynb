{
 "cells": [
  {
   "attachments": {},
   "cell_type": "markdown",
   "metadata": {},
   "source": [
    "## Laboratorium 5"
   ]
  },
  {
   "cell_type": "code",
   "execution_count": 56,
   "metadata": {},
   "outputs": [],
   "source": [
    "import numpy as np\n",
    "import pandas as pd\n",
    "from PIL import Image\n",
    "from time import perf_counter\n",
    "from random import randint\n"
   ]
  },
  {
   "attachments": {},
   "cell_type": "markdown",
   "metadata": {},
   "source": [
    "Zadanie 1 - Zaimplementuj algorytm wyszukiwania wzorca 2-wymiarowego "
   ]
  },
  {
   "cell_type": "code",
   "execution_count": 9,
   "metadata": {},
   "outputs": [],
   "source": [
    "def get_diff_columns(pattern):\n",
    "    columns = []\n",
    "    indexes = []\n",
    "    alphabet = set()\n",
    "    for i in range(len(pattern[0])):\n",
    "        col = []\n",
    "        for j in range(len(pattern)):\n",
    "            col.append(pattern[j][i])\n",
    "            alphabet.add(pattern[j][i])\n",
    "\n",
    "        if col in columns:\n",
    "            idx = columns.index(col)\n",
    "            indexes.append(idx)\n",
    "        else:\n",
    "            columns.append(col)\n",
    "            indexes.append(len(columns) - 1)\n",
    "    return columns, indexes, alphabet\n",
    "\n"
   ]
  },
  {
   "cell_type": "code",
   "execution_count": 10,
   "metadata": {},
   "outputs": [],
   "source": [
    "def vertical_automaton(columns, letters):\n",
    "    transition_table = [{}]\n",
    "    word_sequences = [[]]\n",
    "    vertical_states = [0] * len(columns)\n",
    "\n",
    "    for i in range(len(columns[0])):\n",
    "        for j in range(len(columns)):\n",
    "            if columns[j][i] in transition_table[vertical_states[j]]:\n",
    "                vertical_states[j] = transition_table[vertical_states[j]][columns[j][i]]\n",
    "            else:\n",
    "                transition_table[vertical_states[j]][columns[j][i]] = len(transition_table)\n",
    "                word_sequences.append(word_sequences[vertical_states[j]] + [columns[j][i]])\n",
    "                vertical_states[j] = len(transition_table)\n",
    "                transition_table.append({})\n",
    "\n",
    "    for i in range(len(transition_table)):\n",
    "        for l in letters:\n",
    "            if l not in transition_table[i]:\n",
    "                suffix = (word_sequences[i] + [l])[1:]\n",
    "                state = 0\n",
    "                for s in suffix:\n",
    "                    if s in transition_table[state]:\n",
    "                        state = transition_table[state][s]\n",
    "                    else:\n",
    "                        state = 0\n",
    "\n",
    "                transition_table[i][l] = state\n",
    "    return transition_table, vertical_states\n"
   ]
  },
  {
   "cell_type": "code",
   "execution_count": 11,
   "metadata": {},
   "outputs": [],
   "source": [
    "def horizontal_automaton(pattern, letters):\n",
    "    result = []\n",
    "    for state in range(len(pattern) + 1):\n",
    "        result.append({})\n",
    "        for l in letters:\n",
    "            next_state = min(len(pattern), state + 1)\n",
    "            while True:\n",
    "                if pattern[:next_state] == (pattern[:state] + [l])[state - next_state + 1:state + 1]:\n",
    "                    break\n",
    "                next_state -= 1\n",
    "            result[state][l] = next_state\n",
    "    return result\n"
   ]
  },
  {
   "cell_type": "code",
   "execution_count": 12,
   "metadata": {},
   "outputs": [],
   "source": [
    "def main_automaton(pattern):\n",
    "    columns, indexes, letters = get_diff_columns(pattern)\n",
    "    vertical_transition_table, vertical_states = vertical_automaton(columns, letters)\n",
    "\n",
    "    new_pattern = [vertical_states[indexes[i]] for i in range(len(indexes))]\n",
    "    horizontal_transition_table = horizontal_automaton(new_pattern, vertical_states)\n",
    "    final_horizontal_state = len(horizontal_transition_table) - 1\n",
    "    return vertical_transition_table, horizontal_transition_table, final_horizontal_state\n"
   ]
  },
  {
   "cell_type": "code",
   "execution_count": 13,
   "metadata": {},
   "outputs": [],
   "source": [
    "def pattern_matching_2d(text, pattern, automaton=None):\n",
    "    if automaton is None:\n",
    "        vertical_transition_table, horizontal_transition_table, final_horizontal_state = main_automaton(pattern)\n",
    "    else:\n",
    "        vertical_transition_table, horizontal_transition_table, final_horizontal_state = automaton\n",
    "\n",
    "    result = []\n",
    "    vertical_states = []\n",
    "    for i in range(len(text)):\n",
    "        if len(text[i]) < len(vertical_states):\n",
    "            vertical_states = vertical_states[:len(text[i])]\n",
    "        elif len(vertical_states) < len(text[i]):\n",
    "            vertical_states = vertical_states + [0] * (len(text[i]) - len(vertical_states))\n",
    "\n",
    "        new_horizontal_state = 0\n",
    "        for j in range(len(text[i])):\n",
    "            if text[i][j] in vertical_transition_table[vertical_states[j]]:\n",
    "                vertical_states[j] = vertical_transition_table[vertical_states[j]][text[i][j]]\n",
    "            else:\n",
    "                vertical_states[j] = 0\n",
    "            if vertical_states[j] in horizontal_transition_table[new_horizontal_state]:\n",
    "                new_horizontal_state = horizontal_transition_table[new_horizontal_state][vertical_states[j]]\n",
    "                if new_horizontal_state == final_horizontal_state:\n",
    "                    result.append((i - len(pattern) + 1, j - len(pattern[0]) + 1))\n",
    "            else:\n",
    "                new_horizontal_state = 0\n",
    "    return result"
   ]
  },
  {
   "attachments": {},
   "cell_type": "markdown",
   "metadata": {},
   "source": [
    "Zadanie 2 - Znajdź w załączonym pliku \"haystack.txt\" wszyskie sytuacje, gdy taka sama litera występuje na tej samej pozycji w dwóch kolejnych linijkach. Zwróć uwagę, na nierówną długość linii w pliku. "
   ]
  },
  {
   "cell_type": "code",
   "execution_count": 14,
   "metadata": {},
   "outputs": [
    {
     "name": "stdout",
     "output_type": "stream",
     "text": [
      "pattern:\n",
      "['a', 'a']\n",
      "found indexes:\n",
      "[(0, 82), (3, 30), (5, 60), (6, 63), (20, 6), (28, 69), (31, 50), (31, 73), (33, 66), (37, 4), (52, 12), (53, 12), (53, 48), (56, 11), (57, 36), (58, 36), (59, 24), (64, 2), (64, 14), (64, 22), (65, 35), (69, 35), (76, 21), (76, 74), (77, 42), (77, 61), (78, 59), (79, 37)]\n",
      "------------------------------------\n",
      "pattern:\n",
      "['b', 'b']\n",
      "found indexes:\n",
      "[]\n",
      "------------------------------------\n",
      "pattern:\n",
      "['c', 'c']\n",
      "found indexes:\n",
      "[(3, 54), (10, 45), (13, 10), (41, 0), (68, 0), (82, 41)]\n",
      "------------------------------------\n",
      "pattern:\n",
      "['d', 'd']\n",
      "found indexes:\n",
      "[(37, 19)]\n",
      "------------------------------------\n",
      "pattern:\n",
      "['e', 'e']\n",
      "found indexes:\n",
      "[(0, 63), (1, 8), (4, 77), (7, 65), (10, 1), (10, 64), (14, 2), (15, 43), (17, 6), (18, 27), (20, 10), (21, 61), (22, 53), (24, 3), (24, 65), (28, 67), (28, 73), (29, 38), (29, 43), (37, 48), (40, 11), (40, 26), (41, 57), (42, 36), (42, 48), (46, 52), (47, 50), (51, 31), (57, 54), (58, 50), (58, 54), (59, 73), (63, 66), (65, 69), (66, 72), (67, 17), (68, 46), (69, 15), (70, 49), (71, 38), (72, 23), (73, 27), (76, 6), (77, 6), (78, 65), (80, 6), (81, 14), (82, 47)]\n",
      "------------------------------------\n",
      "pattern:\n",
      "['f', 'f']\n",
      "found indexes:\n",
      "[(30, 59), (77, 1)]\n",
      "------------------------------------\n",
      "pattern:\n",
      "['g', 'g']\n",
      "found indexes:\n",
      "[]\n",
      "------------------------------------\n",
      "pattern:\n",
      "['h', 'h']\n",
      "found indexes:\n",
      "[(27, 2), (37, 2), (56, 31), (73, 12)]\n",
      "------------------------------------\n",
      "pattern:\n",
      "['i', 'i']\n",
      "found indexes:\n",
      "[(1, 5), (8, 37), (9, 60), (19, 55), (31, 0), (31, 31), (44, 33), (52, 69), (55, 17), (60, 45), (68, 51), (73, 13), (77, 13)]\n",
      "------------------------------------\n",
      "pattern:\n",
      "['j', 'j']\n",
      "found indexes:\n",
      "[]\n",
      "------------------------------------\n",
      "pattern:\n",
      "['k', 'k']\n",
      "found indexes:\n",
      "[]\n",
      "------------------------------------\n",
      "pattern:\n",
      "['l', 'l']\n",
      "found indexes:\n",
      "[(28, 72), (33, 45), (41, 77), (46, 61), (53, 45)]\n",
      "------------------------------------\n",
      "pattern:\n",
      "['m', 'm']\n",
      "found indexes:\n",
      "[(16, 5), (28, 70), (34, 40), (34, 60), (44, 0)]\n",
      "------------------------------------\n",
      "pattern:\n",
      "['n', 'n']\n",
      "found indexes:\n",
      "[(0, 83), (1, 9), (14, 54), (19, 37), (20, 56), (21, 62), (31, 1), (35, 18), (51, 32), (54, 33), (56, 13), (64, 29), (67, 35), (67, 40), (67, 57)]\n",
      "------------------------------------\n",
      "pattern:\n",
      "['o', 'o']\n",
      "found indexes:\n",
      "[(4, 75), (5, 66), (6, 38), (7, 38), (10, 27), (15, 60), (27, 17), (28, 17), (30, 58), (32, 34), (33, 11), (33, 26), (41, 1), (44, 55), (50, 2), (52, 8), (53, 1), (58, 45), (71, 42), (79, 10), (81, 52)]\n",
      "------------------------------------\n",
      "pattern:\n",
      "['p', 'p']\n",
      "found indexes:\n",
      "[(28, 71), (41, 18)]\n",
      "------------------------------------\n",
      "pattern:\n",
      "['q', 'q']\n",
      "found indexes:\n",
      "[]\n",
      "------------------------------------\n",
      "pattern:\n",
      "['r', 'r']\n",
      "found indexes:\n",
      "[(1, 4), (6, 39), (6, 50), (7, 13), (15, 18), (17, 14), (19, 54), (20, 54), (28, 65), (31, 70), (33, 10), (33, 37), (43, 25), (46, 42), (47, 37), (52, 5), (55, 40), (60, 30), (62, 39), (67, 29), (69, 22)]\n",
      "------------------------------------\n",
      "pattern:\n",
      "['s', 's']\n",
      "found indexes:\n",
      "[(3, 57), (3, 63), (4, 49), (8, 21), (9, 58), (28, 45), (29, 56), (30, 56), (37, 34), (40, 63), (45, 34), (46, 44), (49, 14), (52, 53), (54, 0), (67, 37), (70, 41), (71, 24), (79, 24)]\n",
      "------------------------------------\n",
      "pattern:\n",
      "['t', 't']\n",
      "found indexes:\n",
      "[(0, 7), (1, 6), (1, 7), (3, 37), (4, 14), (4, 23), (7, 29), (8, 75), (13, 55), (15, 12), (16, 3), (19, 33), (22, 8), (23, 4), (24, 4), (27, 31), (28, 23), (28, 52), (30, 16), (35, 10), (37, 0), (41, 45), (41, 73), (46, 24), (50, 0), (51, 33), (52, 61), (54, 11), (55, 54), (58, 49), (58, 78), (59, 33), (59, 75), (61, 56), (67, 71), (69, 5), (71, 3), (72, 3), (72, 10), (72, 59), (77, 22)]\n",
      "------------------------------------\n",
      "pattern:\n",
      "['u', 'u']\n",
      "found indexes:\n",
      "[]\n",
      "------------------------------------\n",
      "pattern:\n",
      "['v', 'v']\n",
      "found indexes:\n",
      "[]\n",
      "------------------------------------\n",
      "pattern:\n",
      "['w', 'w']\n",
      "found indexes:\n",
      "[(1, 3), (21, 70)]\n",
      "------------------------------------\n",
      "pattern:\n",
      "['x', 'x']\n",
      "found indexes:\n",
      "[(28, 68)]\n",
      "------------------------------------\n",
      "pattern:\n",
      "['y', 'y']\n",
      "found indexes:\n",
      "[(44, 5)]\n",
      "------------------------------------\n",
      "pattern:\n",
      "['z', 'z']\n",
      "found indexes:\n",
      "[]\n",
      "------------------------------------\n"
     ]
    }
   ],
   "source": [
    "with open(\"haystack.txt\") as f:\n",
    "    text = f.readlines()\n",
    "\n",
    "\n",
    "\n",
    "for i in range(ord(\"a\"), ord(\"z\") + 1):\n",
    "    pattern = [chr(i), chr(i)]\n",
    "    result = pattern_matching_2d(text, pattern)\n",
    "    print(\"pattern:\\n{}\".format(pattern))\n",
    "    print(\"found indexes:\\n{}\".format(result))\n",
    "    print(\"------------------------------------\")\n",
    "\n"
   ]
  },
  {
   "attachments": {},
   "cell_type": "markdown",
   "metadata": {},
   "source": [
    "Zadanie 3 - Znajdź wszystkie wystąpienia \"th\" oraz \"t h\" w dwóch kolejnych liniach na tej samej pozycji. "
   ]
  },
  {
   "cell_type": "code",
   "execution_count": 15,
   "metadata": {},
   "outputs": [
    {
     "data": {
      "text/plain": [
       "[]"
      ]
     },
     "execution_count": 15,
     "metadata": {},
     "output_type": "execute_result"
    }
   ],
   "source": [
    "pattern = [\"th\", \"th\"]\n",
    "result = pattern_matching_2d(text, pattern)\n",
    "result"
   ]
  },
  {
   "cell_type": "code",
   "execution_count": 16,
   "metadata": {},
   "outputs": [
    {
     "data": {
      "text/plain": [
       "[(37, 0)]"
      ]
     },
     "execution_count": 16,
     "metadata": {},
     "output_type": "execute_result"
    }
   ],
   "source": [
    "pattern = [\"t h\", \"t h\"]\n",
    "result = pattern_matching_2d(text, pattern)\n",
    "result"
   ]
  },
  {
   "attachments": {},
   "cell_type": "markdown",
   "metadata": {},
   "source": [
    "Zadanie 4 - Wybierz przynajmniej 4 litery (małe). Znajdź wszystkie wystąpienia tej litery w załączonym pliku \"haystack.png\" "
   ]
  },
  {
   "cell_type": "code",
   "execution_count": 52,
   "metadata": {},
   "outputs": [],
   "source": [
    "def change_image(file_name):\n",
    "    image = Image.open(file_name)\n",
    "    pixels = list(image.getdata())\n",
    "    width, height = image.size\n",
    "    text = []\n",
    "    i = width\n",
    "    for pixel in pixels:\n",
    "        if i == width:\n",
    "            i = 0\n",
    "            text.append([])\n",
    "        text[-1].append(pixel[0])\n",
    "        i += 1\n",
    "    return text"
   ]
  },
  {
   "cell_type": "code",
   "execution_count": 20,
   "metadata": {},
   "outputs": [],
   "source": [
    "text = change_image(\"haystack.png\")"
   ]
  },
  {
   "cell_type": "code",
   "execution_count": 54,
   "metadata": {},
   "outputs": [
    {
     "data": {
      "text/plain": [
       "[[255, 255, 255, 255, 255, 255, 255, 255, 255, 255, 255],\n",
       " [255, 253, 177, 74, 25, 8, 45, 149, 255, 255, 255],\n",
       " [255, 203, 0, 0, 0, 0, 0, 0, 129, 255, 255],\n",
       " [255, 206, 87, 193, 236, 241, 186, 35, 10, 242, 255],\n",
       " [255, 255, 255, 255, 255, 255, 255, 175, 0, 188, 255],\n",
       " [255, 255, 159, 60, 16, 1, 0, 0, 0, 162, 255],\n",
       " [255, 138, 0, 0, 0, 0, 0, 0, 0, 155, 255],\n",
       " [255, 38, 23, 189, 238, 252, 255, 177, 0, 155, 255],\n",
       " [255, 38, 27, 201, 249, 238, 178, 31, 0, 155, 255],\n",
       " [255, 120, 0, 0, 0, 0, 0, 89, 0, 155, 255],\n",
       " [255, 249, 123, 31, 7, 41, 152, 199, 0, 155, 255],\n",
       " [255, 255, 255, 255, 255, 255, 255, 255, 255, 255, 255]]"
      ]
     },
     "execution_count": 54,
     "metadata": {},
     "output_type": "execute_result"
    }
   ],
   "source": [
    "a = change_image(\"a.png\")\n",
    "a"
   ]
  },
  {
   "cell_type": "code",
   "execution_count": 39,
   "metadata": {},
   "outputs": [
    {
     "name": "stdout",
     "output_type": "stream",
     "text": [
      "Occure number: 356.\n"
     ]
    }
   ],
   "source": [
    "a_matched = pattern_matching_2d(text, a)\n",
    "print(\"Occure number: {}.\".format(len(a_matched)))"
   ]
  },
  {
   "attachments": {},
   "cell_type": "markdown",
   "metadata": {},
   "source": [
    "Zadanie 5 - Znajdź wszystkie wystąpienia słowa \"p a t t e r n\" w haystack.png. "
   ]
  },
  {
   "cell_type": "code",
   "execution_count": 55,
   "metadata": {},
   "outputs": [
    {
     "name": "stdout",
     "output_type": "stream",
     "text": [
      "number of occurrences: 5.\n"
     ]
    }
   ],
   "source": [
    "pattern = change_image(\"pattern.png\")\n",
    "pattern_matched = pattern_matching_2d(text, pattern)\n",
    "print(\"number of occurrences: {}.\".format(len(pattern_matched)))"
   ]
  },
  {
   "attachments": {},
   "cell_type": "markdown",
   "metadata": {},
   "source": [
    "Zadanie 6 - Porównaj czas budowania automatu i czas wyszukiwania dla różnych rozmiarów wzorca "
   ]
  },
  {
   "cell_type": "code",
   "execution_count": 57,
   "metadata": {},
   "outputs": [],
   "source": [
    "with open(\"haystack.txt\") as f:\n",
    "    text = f.readlines()\n",
    "\n",
    "\n",
    "def building_times(text_size):\n",
    "    building_times = []\n",
    "    for i in text_size:\n",
    "        pattern = [[chr(randint(ord('a'), ord('z'))) for _ in range(i)] for _ in range(i)]\n",
    "        start = perf_counter()\n",
    "        main_automaton(pattern)\n",
    "        end = perf_counter()\n",
    "        building_times += [i, end - start]\n",
    "    df = pd.DataFrame(data={\"text size\": building_times[::2],\n",
    "                            \"building time [s]\": building_times[1::2]})\n",
    "    return df\n",
    "\n"
   ]
  },
  {
   "cell_type": "code",
   "execution_count": 58,
   "metadata": {},
   "outputs": [
    {
     "data": {
      "text/html": [
       "<div>\n",
       "<style scoped>\n",
       "    .dataframe tbody tr th:only-of-type {\n",
       "        vertical-align: middle;\n",
       "    }\n",
       "\n",
       "    .dataframe tbody tr th {\n",
       "        vertical-align: top;\n",
       "    }\n",
       "\n",
       "    .dataframe thead th {\n",
       "        text-align: right;\n",
       "    }\n",
       "</style>\n",
       "<table border=\"1\" class=\"dataframe\">\n",
       "  <thead>\n",
       "    <tr style=\"text-align: right;\">\n",
       "      <th></th>\n",
       "      <th>text size</th>\n",
       "      <th>building time [s]</th>\n",
       "    </tr>\n",
       "  </thead>\n",
       "  <tbody>\n",
       "    <tr>\n",
       "      <th>0</th>\n",
       "      <td>10</td>\n",
       "      <td>0.003131</td>\n",
       "    </tr>\n",
       "    <tr>\n",
       "      <th>1</th>\n",
       "      <td>30</td>\n",
       "      <td>0.039665</td>\n",
       "    </tr>\n",
       "    <tr>\n",
       "      <th>2</th>\n",
       "      <td>50</td>\n",
       "      <td>0.146184</td>\n",
       "    </tr>\n",
       "    <tr>\n",
       "      <th>3</th>\n",
       "      <td>70</td>\n",
       "      <td>0.361550</td>\n",
       "    </tr>\n",
       "    <tr>\n",
       "      <th>4</th>\n",
       "      <td>90</td>\n",
       "      <td>0.872316</td>\n",
       "    </tr>\n",
       "    <tr>\n",
       "      <th>5</th>\n",
       "      <td>110</td>\n",
       "      <td>1.423849</td>\n",
       "    </tr>\n",
       "    <tr>\n",
       "      <th>6</th>\n",
       "      <td>130</td>\n",
       "      <td>2.381340</td>\n",
       "    </tr>\n",
       "    <tr>\n",
       "      <th>7</th>\n",
       "      <td>150</td>\n",
       "      <td>3.856218</td>\n",
       "    </tr>\n",
       "    <tr>\n",
       "      <th>8</th>\n",
       "      <td>170</td>\n",
       "      <td>5.824604</td>\n",
       "    </tr>\n",
       "    <tr>\n",
       "      <th>9</th>\n",
       "      <td>190</td>\n",
       "      <td>8.055970</td>\n",
       "    </tr>\n",
       "    <tr>\n",
       "      <th>10</th>\n",
       "      <td>210</td>\n",
       "      <td>11.323610</td>\n",
       "    </tr>\n",
       "    <tr>\n",
       "      <th>11</th>\n",
       "      <td>230</td>\n",
       "      <td>15.214211</td>\n",
       "    </tr>\n",
       "    <tr>\n",
       "      <th>12</th>\n",
       "      <td>250</td>\n",
       "      <td>19.852869</td>\n",
       "    </tr>\n",
       "  </tbody>\n",
       "</table>\n",
       "</div>"
      ],
      "text/plain": [
       "    text size  building time [s]\n",
       "0          10           0.003131\n",
       "1          30           0.039665\n",
       "2          50           0.146184\n",
       "3          70           0.361550\n",
       "4          90           0.872316\n",
       "5         110           1.423849\n",
       "6         130           2.381340\n",
       "7         150           3.856218\n",
       "8         170           5.824604\n",
       "9         190           8.055970\n",
       "10        210          11.323610\n",
       "11        230          15.214211\n",
       "12        250          19.852869"
      ]
     },
     "execution_count": 58,
     "metadata": {},
     "output_type": "execute_result"
    }
   ],
   "source": [
    "text_size = [i for i in range(10, 260, 20)]\n",
    "df_1 = building_times(text_size)\n",
    "df_1"
   ]
  },
  {
   "cell_type": "code",
   "execution_count": 59,
   "metadata": {},
   "outputs": [],
   "source": [
    "def searching_times(text, text_size, path_size):\n",
    "    pattern = [line[:path_size] for line in text[:path_size]]\n",
    "    automaton = main_automaton(pattern)\n",
    "    searching_times = []\n",
    "\n",
    "    for i in text_size:\n",
    "        text = [line[:i] for line in text[:i]]\n",
    "        start = perf_counter()\n",
    "        pattern_matching_2d(text, pattern, automaton)\n",
    "        end = perf_counter()\n",
    "        searching_times += [i, end - start]\n",
    "    df = pd.DataFrame(data={\"text size\": searching_times[::2],\n",
    "                            \"searching time [s]\": searching_times[1::2]})\n",
    "    return df"
   ]
  },
  {
   "cell_type": "code",
   "execution_count": 60,
   "metadata": {},
   "outputs": [
    {
     "data": {
      "text/html": [
       "<div>\n",
       "<style scoped>\n",
       "    .dataframe tbody tr th:only-of-type {\n",
       "        vertical-align: middle;\n",
       "    }\n",
       "\n",
       "    .dataframe tbody tr th {\n",
       "        vertical-align: top;\n",
       "    }\n",
       "\n",
       "    .dataframe thead th {\n",
       "        text-align: right;\n",
       "    }\n",
       "</style>\n",
       "<table border=\"1\" class=\"dataframe\">\n",
       "  <thead>\n",
       "    <tr style=\"text-align: right;\">\n",
       "      <th></th>\n",
       "      <th>text size</th>\n",
       "      <th>searching time [s]</th>\n",
       "    </tr>\n",
       "  </thead>\n",
       "  <tbody>\n",
       "    <tr>\n",
       "      <th>0</th>\n",
       "      <td>500</td>\n",
       "      <td>0.054548</td>\n",
       "    </tr>\n",
       "    <tr>\n",
       "      <th>1</th>\n",
       "      <td>1000</td>\n",
       "      <td>0.046357</td>\n",
       "    </tr>\n",
       "    <tr>\n",
       "      <th>2</th>\n",
       "      <td>1500</td>\n",
       "      <td>0.046340</td>\n",
       "    </tr>\n",
       "    <tr>\n",
       "      <th>3</th>\n",
       "      <td>2000</td>\n",
       "      <td>0.045981</td>\n",
       "    </tr>\n",
       "    <tr>\n",
       "      <th>4</th>\n",
       "      <td>2500</td>\n",
       "      <td>0.046427</td>\n",
       "    </tr>\n",
       "    <tr>\n",
       "      <th>5</th>\n",
       "      <td>3000</td>\n",
       "      <td>0.044423</td>\n",
       "    </tr>\n",
       "    <tr>\n",
       "      <th>6</th>\n",
       "      <td>3500</td>\n",
       "      <td>0.044671</td>\n",
       "    </tr>\n",
       "    <tr>\n",
       "      <th>7</th>\n",
       "      <td>4000</td>\n",
       "      <td>0.048007</td>\n",
       "    </tr>\n",
       "    <tr>\n",
       "      <th>8</th>\n",
       "      <td>4500</td>\n",
       "      <td>0.046629</td>\n",
       "    </tr>\n",
       "    <tr>\n",
       "      <th>9</th>\n",
       "      <td>5000</td>\n",
       "      <td>0.047322</td>\n",
       "    </tr>\n",
       "    <tr>\n",
       "      <th>10</th>\n",
       "      <td>5500</td>\n",
       "      <td>0.045807</td>\n",
       "    </tr>\n",
       "    <tr>\n",
       "      <th>11</th>\n",
       "      <td>6000</td>\n",
       "      <td>0.044547</td>\n",
       "    </tr>\n",
       "    <tr>\n",
       "      <th>12</th>\n",
       "      <td>6500</td>\n",
       "      <td>0.044647</td>\n",
       "    </tr>\n",
       "    <tr>\n",
       "      <th>13</th>\n",
       "      <td>7000</td>\n",
       "      <td>0.047355</td>\n",
       "    </tr>\n",
       "    <tr>\n",
       "      <th>14</th>\n",
       "      <td>7500</td>\n",
       "      <td>0.048232</td>\n",
       "    </tr>\n",
       "    <tr>\n",
       "      <th>15</th>\n",
       "      <td>8000</td>\n",
       "      <td>0.047180</td>\n",
       "    </tr>\n",
       "    <tr>\n",
       "      <th>16</th>\n",
       "      <td>8500</td>\n",
       "      <td>0.046293</td>\n",
       "    </tr>\n",
       "    <tr>\n",
       "      <th>17</th>\n",
       "      <td>9000</td>\n",
       "      <td>0.047097</td>\n",
       "    </tr>\n",
       "    <tr>\n",
       "      <th>18</th>\n",
       "      <td>9500</td>\n",
       "      <td>0.043996</td>\n",
       "    </tr>\n",
       "    <tr>\n",
       "      <th>19</th>\n",
       "      <td>10000</td>\n",
       "      <td>0.047037</td>\n",
       "    </tr>\n",
       "  </tbody>\n",
       "</table>\n",
       "</div>"
      ],
      "text/plain": [
       "    text size  searching time [s]\n",
       "0         500            0.054548\n",
       "1        1000            0.046357\n",
       "2        1500            0.046340\n",
       "3        2000            0.045981\n",
       "4        2500            0.046427\n",
       "5        3000            0.044423\n",
       "6        3500            0.044671\n",
       "7        4000            0.048007\n",
       "8        4500            0.046629\n",
       "9        5000            0.047322\n",
       "10       5500            0.045807\n",
       "11       6000            0.044547\n",
       "12       6500            0.044647\n",
       "13       7000            0.047355\n",
       "14       7500            0.048232\n",
       "15       8000            0.047180\n",
       "16       8500            0.046293\n",
       "17       9000            0.047097\n",
       "18       9500            0.043996\n",
       "19      10000            0.047037"
      ]
     },
     "execution_count": 60,
     "metadata": {},
     "output_type": "execute_result"
    }
   ],
   "source": [
    "text = change_image(\"haystack.png\")\n",
    "text_size = [i for i in range(500, 10001, 500)]\n",
    "path_size = 25\n",
    "df_2 = searching_times(text, text_size, path_size)\n",
    "df_2"
   ]
  },
  {
   "attachments": {},
   "cell_type": "markdown",
   "metadata": {},
   "source": [
    "Zadanie 7 - Podziel plik na 2, 4 i 8 fragmentów (w poziomie) i porównaj czas przeszukiwania "
   ]
  },
  {
   "cell_type": "code",
   "execution_count": 61,
   "metadata": {},
   "outputs": [],
   "source": [
    "def divide_and_measure(text, path_size):\n",
    "    pattern = [line[:path_size] for line in text[:path_size]]\n",
    "    result = []\n",
    "\n",
    "    for div in [2, 4, 8]:\n",
    "        length = len(text) // div\n",
    "        intervals = [text[i * length:(i + 1) * length] for i in range(div)]\n",
    "        start = perf_counter()\n",
    "        for i in intervals:\n",
    "            pattern_matching_2d(i, pattern)\n",
    "        end = perf_counter()\n",
    "        result += [div, end - start]\n",
    "    df = pd.DataFrame(data={\"part\": result[::2],\n",
    "                            \"time [s]\": result[1::2]})\n",
    "    return df"
   ]
  },
  {
   "cell_type": "code",
   "execution_count": 62,
   "metadata": {},
   "outputs": [
    {
     "data": {
      "text/html": [
       "<div>\n",
       "<style scoped>\n",
       "    .dataframe tbody tr th:only-of-type {\n",
       "        vertical-align: middle;\n",
       "    }\n",
       "\n",
       "    .dataframe tbody tr th {\n",
       "        vertical-align: top;\n",
       "    }\n",
       "\n",
       "    .dataframe thead th {\n",
       "        text-align: right;\n",
       "    }\n",
       "</style>\n",
       "<table border=\"1\" class=\"dataframe\">\n",
       "  <thead>\n",
       "    <tr style=\"text-align: right;\">\n",
       "      <th></th>\n",
       "      <th>part</th>\n",
       "      <th>time [s]</th>\n",
       "    </tr>\n",
       "  </thead>\n",
       "  <tbody>\n",
       "    <tr>\n",
       "      <th>0</th>\n",
       "      <td>2</td>\n",
       "      <td>0.394560</td>\n",
       "    </tr>\n",
       "    <tr>\n",
       "      <th>1</th>\n",
       "      <td>4</td>\n",
       "      <td>0.332493</td>\n",
       "    </tr>\n",
       "    <tr>\n",
       "      <th>2</th>\n",
       "      <td>8</td>\n",
       "      <td>0.334964</td>\n",
       "    </tr>\n",
       "  </tbody>\n",
       "</table>\n",
       "</div>"
      ],
      "text/plain": [
       "   part  time [s]\n",
       "0     2  0.394560\n",
       "1     4  0.332493\n",
       "2     8  0.334964"
      ]
     },
     "execution_count": 62,
     "metadata": {},
     "output_type": "execute_result"
    }
   ],
   "source": [
    "path_size = 25\n",
    "df_3 = divide_and_measure(text, path_size)\n",
    "df_3"
   ]
  }
 ],
 "metadata": {
  "kernelspec": {
   "display_name": "Python 3",
   "language": "python",
   "name": "python3"
  },
  "language_info": {
   "codemirror_mode": {
    "name": "ipython",
    "version": 3
   },
   "file_extension": ".py",
   "mimetype": "text/x-python",
   "name": "python",
   "nbconvert_exporter": "python",
   "pygments_lexer": "ipython3",
   "version": "3.10.6"
  },
  "orig_nbformat": 4
 },
 "nbformat": 4,
 "nbformat_minor": 2
}
